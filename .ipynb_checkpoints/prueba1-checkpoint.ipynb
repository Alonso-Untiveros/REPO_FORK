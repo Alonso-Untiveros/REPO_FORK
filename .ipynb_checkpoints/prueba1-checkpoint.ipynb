{
 "cells": [
  {
   "cell_type": "markdown",
   "id": "6f07e234",
   "metadata": {},
   "source": [
    "## ARCHIVO PRUEBA"
   ]
  },
  {
   "cell_type": "code",
   "execution_count": 1,
   "id": "716d8b1d",
   "metadata": {},
   "outputs": [],
   "source": [
    "def f(x,y):\n",
    "    res=x**y-2*y-2*x\n",
    "    return(res)"
   ]
  },
  {
   "cell_type": "code",
   "execution_count": 3,
   "id": "a4c57f73",
   "metadata": {},
   "outputs": [
    {
     "name": "stdout",
     "output_type": "stream",
     "text": [
      "15603\n",
      "-17.999999912208505\n",
      "13552527156068805425093160010874271392822265503\n"
     ]
    }
   ],
   "source": [
    "print(f(5,6))\n",
    "print(f(15,-6))\n",
    "print(f(-5,66))"
   ]
  }
 ],
 "metadata": {
  "kernelspec": {
   "display_name": "Python 3 (ipykernel)",
   "language": "python",
   "name": "python3"
  },
  "language_info": {
   "codemirror_mode": {
    "name": "ipython",
    "version": 3
   },
   "file_extension": ".py",
   "mimetype": "text/x-python",
   "name": "python",
   "nbconvert_exporter": "python",
   "pygments_lexer": "ipython3",
   "version": "3.9.12"
  }
 },
 "nbformat": 4,
 "nbformat_minor": 5
}
