{
 "cells": [
  {
   "cell_type": "markdown",
   "id": "c2c13911",
   "metadata": {},
   "source": [
    "## ARCHIVO PRUEBA"
   ]
  },
  {
   "cell_type": "code",
   "execution_count": 1,
   "id": "a6076844",
   "metadata": {},
   "outputs": [],
   "source": [
    "def f(x,y):\n",
    "    res=x**y-2*y-2*x\n",
    "    return(res)"
   ]
  },
  {
   "cell_type": "code",
   "execution_count": 2,
   "id": "5875fd6c",
   "metadata": {},
   "outputs": [
    {
     "data": {
      "text/plain": [
       "15603"
      ]
     },
     "execution_count": 2,
     "metadata": {},
     "output_type": "execute_result"
    }
   ],
   "source": [
    "print(f(5,6))"
   ]
  }
 ],
 "metadata": {
  "kernelspec": {
   "display_name": "Python 3 (ipykernel)",
   "language": "python",
   "name": "python3"
  },
  "language_info": {
   "codemirror_mode": {
    "name": "ipython",
    "version": 3
   },
   "file_extension": ".py",
   "mimetype": "text/x-python",
   "name": "python",
   "nbconvert_exporter": "python",
   "pygments_lexer": "ipython3",
   "version": "3.9.12"
  }
 },
 "nbformat": 4,
 "nbformat_minor": 5
}
